{
  "cells": [
    {
      "cell_type": "code",
      "source": [
        "import numpy as np\n",
        "import pandas as pd"
      ],
      "metadata": {
        "id": "grHS31qUjMBh"
      },
      "execution_count": 1,
      "outputs": []
    },
    {
      "cell_type": "code",
      "source": [
        "data = pd.read_csv(\"ted_talks.csv\")\n",
        "print(data.head())"
      ],
      "metadata": {
        "colab": {
          "base_uri": "https://localhost:8080/"
        },
        "id": "k0Owf2-WjfO-",
        "outputId": "71f7f520-5f7e-4710-d927-a563b464386d"
      },
      "execution_count": 3,
      "outputs": [
        {
          "output_type": "stream",
          "name": "stdout",
          "text": [
            "                                          transcript  \\\n",
            "0  Good morning. How are you?(Laughter)It's been ...   \n",
            "1  Thank you so much, Chris. And it's truly a gre...   \n",
            "2  (Music: \"The Sound of Silence,\" Simon & Garfun...   \n",
            "3  If you're here today — and I'm very happy that...   \n",
            "4  About 10 years ago, I took on the task to teac...   \n",
            "\n",
            "                                                 url  \n",
            "0  https://www.ted.com/talks/ken_robinson_says_sc...  \n",
            "1  https://www.ted.com/talks/al_gore_on_averting_...  \n",
            "2  https://www.ted.com/talks/david_pogue_says_sim...  \n",
            "3  https://www.ted.com/talks/majora_carter_s_tale...  \n",
            "4  https://www.ted.com/talks/hans_rosling_shows_t...  \n"
          ]
        }
      ]
    },
    {
      "cell_type": "code",
      "source": [
        "data[\"title\"] = data[\"url\"].map(lambda x:x.split(\"/\")[-1])"
      ],
      "metadata": {
        "id": "ohuHHr3sji_U"
      },
      "execution_count": 4,
      "outputs": []
    },
    {
      "cell_type": "code",
      "source": [
        "from sklearn.feature_extraction import text\n",
        "ted_talks = data[\"transcript\"].tolist()\n",
        "bi_tfidf = text.TfidfVectorizer(input=ted_talks, stop_words=\"english\", ngram_range=(1,2))\n",
        "bi_matrix = bi_tfidf.fit_transform(ted_talks)\n",
        "\n",
        "uni_tfidf = text.TfidfVectorizer(input=ted_talks, stop_words=\"english\")\n",
        "uni_matrix = uni_tfidf.fit_transform(ted_talks)\n",
        "\n",
        "from sklearn.metrics.pairwise import cosine_similarity\n",
        "bi_sim = cosine_similarity(bi_matrix)\n",
        "uni_sim = cosine_similarity(uni_matrix)"
      ],
      "metadata": {
        "id": "AkLGHDdGkaFc"
      },
      "execution_count": 5,
      "outputs": []
    },
    {
      "cell_type": "code",
      "source": [
        "def recommend_ted_talks(x):\n",
        "    return \".\".join(data[\"title\"].loc[x.argsort()[-5:-1]])\n",
        "    \n",
        "data[\"ted_talks_uni\"] = [recommend_ted_talks(x) for x in uni_sim]\n",
        "data[\"ted_talks_bi\"] = [recommend_ted_talks(x) for x in bi_sim]\n",
        "print(data['ted_talks_uni'].str.replace(\"_\", \" \").str.upper().str.strip().str.split(\"\\n\")[1])"
      ],
      "metadata": {
        "colab": {
          "base_uri": "https://localhost:8080/"
        },
        "id": "MZQ1760xkc6z",
        "outputId": "189ff59d-4aa5-43f7-90aa-f731ccc6ff11"
      },
      "execution_count": 6,
      "outputs": [
        {
          "output_type": "stream",
          "name": "stdout",
          "text": [
            "['RORY BREMNER S ONE MAN WORLD SUMMIT', '.ALICE BOWS LARKIN WE RE TOO LATE TO PREVENT CLIMATE CHANGE HERE S HOW WE ADAPT', '.TED HALSTEAD A CLIMATE SOLUTION WHERE ALL SIDES CAN WIN', '.AL GORE S NEW THINKING ON THE CLIMATE CRISIS']\n"
          ]
        }
      ]
    }
  ],
  "metadata": {
    "accelerator": "GPU",
    "colab": {
      "provenance": []
    },
    "gpuClass": "standard",
    "kernelspec": {
      "display_name": "Python 3",
      "name": "python3"
    },
    "language_info": {
      "name": "python"
    }
  },
  "nbformat": 4,
  "nbformat_minor": 0
}